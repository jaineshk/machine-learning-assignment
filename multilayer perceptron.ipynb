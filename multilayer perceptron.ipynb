{
 "cells": [
  {
   "cell_type": "code",
   "execution_count": 18,
   "metadata": {},
   "outputs": [],
   "source": [
    "# importing the values\n",
    "import numpy as np\n",
    "import matplotlib.pyplot as plt \n",
    "import time\n",
    "import seaborn as sns\n",
    "from sklearn.metrics import confusion_matrix\n",
    "import pandas as pd\n",
    "from statistics import mean\n",
    "\n",
    "#loading the MNIST set provoded in assignemnt one\n",
    "## Load the training set\n",
    "train_data = np.load('train_data.npy')\n",
    "train_labels = np.load('train_labels.npy')\n",
    "\n",
    "## Load the testing set\n",
    "test_data = np.load('test_data.npy')\n",
    "test_labels = np.load('test_labels.npy')"
   ]
  },
  {
   "cell_type": "code",
   "execution_count": 19,
   "metadata": {},
   "outputs": [],
   "source": [
    "#creating the defination which can convert labels into classification values.\n",
    "\n",
    "def generating_lables(value,lab_list):\n",
    "    binarylab = []\n",
    "    for i in list(lab_list):\n",
    "        if value == i:\n",
    "            binarylab.append(1)\n",
    "        else:\n",
    "            binarylab.append(0)\n",
    "    return binarylab "
   ]
  },
  {
   "cell_type": "markdown",
   "metadata": {},
   "source": [
    "## binary classification train and test data manupulation"
   ]
  },
  {
   "cell_type": "code",
   "execution_count": 20,
   "metadata": {},
   "outputs": [],
   "source": [
    "# For each digit 0 to 9, Creating a array for binary classification for train label set\n",
    "# with the help of above defination\n",
    "data_train_labels = []\n",
    "for i in range(10):\n",
    "    data_train_labels.append(generating_lables(i,train_labels))"
   ]
  },
  {
   "cell_type": "code",
   "execution_count": 21,
   "metadata": {},
   "outputs": [],
   "source": [
    "# For each digit 0 to 9, Creating a array for binary classification for test label set\n",
    "# with the help of above defination\n",
    "data_test_labels = []\n",
    "for i in range(10):\n",
    "    data_test_labels.append(generating_lables(i,test_labels))"
   ]
  },
  {
   "cell_type": "markdown",
   "metadata": {},
   "source": [
    "## Scale each data value to be between 0 and 1"
   ]
  },
  {
   "cell_type": "code",
   "execution_count": 22,
   "metadata": {},
   "outputs": [],
   "source": [
    "\n",
    "x_train = train_data / 255\n",
    "x_test =test_data / 255"
   ]
  },
  {
   "cell_type": "code",
   "execution_count": 23,
   "metadata": {},
   "outputs": [],
   "source": [
    "#refrence perceptron\n",
    "#https://github.com/python-engineer/MLfromscratch/blob/master/mlfromscratch/perceptron.py\n",
    "\n",
    "# my class perceptron\n",
    "class MLPClassifier:\n",
    "    def __init__(self,learning_rate_init=0.01):\n",
    "        self.learning = learning_rate_init\n",
    "        ## Choose small random initial weights, wi 2 [􀀀:05; :05]\n",
    "        self.weights = np.random.uniform(-0.05, 0.05, (784))\n",
    "        # bias unit is always set to 1,\n",
    "        self.bias = 1\n",
    "        self.weight_value = 0\n",
    "        self.weight_next = None\n",
    "        self.bias_next = None\n",
    "\n",
    "    # only single run fit method\n",
    "    def partial_fit(self, X, y):\n",
    "        # inittalizing the weight such thatit didnot update after itration and later it will update\n",
    "\n",
    "        #updating only if the bais and wieght dummy is not NONE\n",
    "        if self.bias_next != None: \n",
    "            self.weights = self.weight_next\n",
    "            self.bias = self.bias_next\n",
    "\n",
    "        weights = self.weights\n",
    "        bias = self.bias\n",
    "        # The learninig curve for perceptron\n",
    "\n",
    "        # iF output is correct then 1 or zero\n",
    "        y_ = np.array([1 if i > 0 else 0 for i in y])\n",
    "        for idx, x_i in enumerate(X):\n",
    "\n",
    "            linear_output = np.dot(x_i,self.weights) + self.bias\n",
    "            prediction = self.activation_func(linear_output)\n",
    "\n",
    "            # Perceptron updates rules\n",
    "            update = self.learning * (y_[idx] - prediction)\n",
    "            # new weight and bias but not updated to the attributes\n",
    "            self.weights += update * x_i\n",
    "            self.bias += update\n",
    "\n",
    "        self.weight_next = self.weights\n",
    "        self.bias_next = bias\n",
    "\n",
    "    # prediction for the values\n",
    "    def predict(self, X):\n",
    "        #saving the weight value so that we can use it for the classification\n",
    "        self.weight_value = np.dot(X, self.weights) + self.bias\n",
    "        prediction = self.activation_func(self.weight_value)\n",
    "        return prediction\n",
    "\n",
    "    # the unit step fuction for activation\n",
    "    def activation_func(self, x):\n",
    "        return np.where(x >= 0, 1, 0)\n",
    "\n",
    "\n",
    "# Testing code\n",
    "# def score(y_true, y_pred):\n",
    "#     accuracy = np.sum(y_true == y_pred) / len(y_true)\n",
    "#     return accuracy\n",
    "\n",
    "\n",
    "# p0 = MLPClassifier(learning_rate_init=0.01)\n",
    "# p0.partial_fit(x_train, data_train_labels[1])\n",
    "# predictions = p0.predict(x_test[0])\n",
    "# p0.weight_value\n"
   ]
  },
  {
   "cell_type": "code",
   "execution_count": 24,
   "metadata": {},
   "outputs": [
    {
     "data": {
      "text/plain": [
       "1.8275700476251762"
      ]
     },
     "execution_count": 24,
     "metadata": {},
     "output_type": "execute_result"
    }
   ],
   "source": [
    "#testing for perceptron\n",
    "p0 = MLPClassifier(learning_rate_init=0.01)\n",
    "p0.partial_fit(x_train, data_train_labels[7])\n",
    "prid = p0.predict(x_test[7])\n",
    "p0.weight_value"
   ]
  },
  {
   "cell_type": "code",
   "execution_count": 25,
   "metadata": {},
   "outputs": [
    {
     "data": {
      "text/plain": [
       "-3.105768684649806"
      ]
     },
     "execution_count": 25,
     "metadata": {},
     "output_type": "execute_result"
    }
   ],
   "source": [
    "#testing for perceptron\n",
    "p1 = MLPClassifier(learning_rate_init=0.01)\n",
    "p1.partial_fit(x_train, data_train_labels[1])\n",
    "p1.predict(x_test[6])\n",
    "p1.weight_value"
   ]
  },
  {
   "cell_type": "code",
   "execution_count": 26,
   "metadata": {},
   "outputs": [],
   "source": [
    "# # the defination for the accuracy count\n",
    "# def score(true_label, pred_label):\n",
    "#     accuracy = np.sum(true_label == pred_label) / len(true_label)\n",
    "#     return accuracy"
   ]
  },
  {
   "cell_type": "code",
   "execution_count": 27,
   "metadata": {},
   "outputs": [],
   "source": [
    "# print(\"Perceptron classification accuracy\", p0.score(data_test_labels[7], predictions))"
   ]
  },
  {
   "cell_type": "code",
   "execution_count": 28,
   "metadata": {},
   "outputs": [],
   "source": [
    "# the main class\n",
    "# creating 10 perceptron each with training for only on digit.\n",
    "class run_perceptron():\n",
    "    def __init__(self, learning_rate, iteration):\n",
    "        self.itration = iteration\n",
    "        self.learn_rate = learning_rate\n",
    "        self.MLP0 = MLPClassifier(learning_rate_init=self.learn_rate)\n",
    "        self.MLP1 = MLPClassifier(learning_rate_init=self.learn_rate)\n",
    "        self.MLP2 = MLPClassifier(learning_rate_init=self.learn_rate)\n",
    "        self.MLP3 = MLPClassifier(learning_rate_init=self.learn_rate)\n",
    "        self.MLP4 = MLPClassifier(learning_rate_init=self.learn_rate)\n",
    "        self.MLP5 = MLPClassifier(learning_rate_init=self.learn_rate)\n",
    "        self.MLP6 = MLPClassifier(learning_rate_init=self.learn_rate)\n",
    "        self.MLP7 = MLPClassifier(learning_rate_init=self.learn_rate)\n",
    "        self.MLP8 = MLPClassifier(learning_rate_init=self.learn_rate)\n",
    "        self.MLP9 = MLPClassifier(learning_rate_init=self.learn_rate)\n",
    "        self.max_val = []\n",
    "        self.labels = []\n",
    "        self.main_acc = []\n",
    "        self.pred_list = []\n",
    "        self.train_acc = []\n",
    "        self.train_set = x_train\n",
    "        self.test_labels = data_test_labels\n",
    "        self.test_labels = data_train_labels\n",
    "\n",
    "\n",
    "    # # the defination for the accuracy count\n",
    "    def score(self,true_label, pred_label):\n",
    "        accuracy = np.sum(np.array(true_label) == np.array(pred_label)) / len(true_label)\n",
    "        return accuracy    \n",
    "\n",
    "    # the main method which runs the indiviual test data (image) so that all perceptron can take the input\n",
    "    def run(self):\n",
    "        self.main_acc = []\n",
    "        self.train_acc = []\n",
    "        for _ in range(self.itration):\n",
    "            self.train_all(self.test_labels,True)\n",
    "\n",
    "            self.train_all(self.test_labels,False)\n",
    "\n",
    "\n",
    "    def train_all(self,label,flag):\n",
    "        #fittting the perceptron\n",
    "        self.MLP0.partial_fit(self.train_set, label[0])\n",
    "        self.MLP1.partial_fit(self.train_set, label[1])\n",
    "        self.MLP2.partial_fit(self.train_set, label[2])\n",
    "        self.MLP3.partial_fit(self.train_set, label[3])\n",
    "        self.MLP4.partial_fit(self.train_set, label[4])\n",
    "        self.MLP5.partial_fit(self.train_set, label[5])\n",
    "        self.MLP6.partial_fit(self.train_set, label[6])\n",
    "        self.MLP7.partial_fit(self.train_set, label[7])\n",
    "        self.MLP8.partial_fit(self.train_set, label[8])\n",
    "        self.MLP9.partial_fit(self.train_set, label[9])\n",
    "        \n",
    "        self.labels = []\n",
    "        # runs indivual image to all perceptron\n",
    "        for j in range(len(x_test)):\n",
    "            self.max_val = []\n",
    "            self.pred_list = []\n",
    "            self.cal_pridiction(self.MLP0,j)\n",
    "            self.cal_pridiction(self.MLP1,j)\n",
    "            self.cal_pridiction(self.MLP2,j)\n",
    "            self.cal_pridiction(self.MLP3,j)\n",
    "            self.cal_pridiction(self.MLP4,j)\n",
    "            self.cal_pridiction(self.MLP5,j)\n",
    "            self.cal_pridiction(self.MLP6,j)\n",
    "            self.cal_pridiction(self.MLP7,j)\n",
    "            self.cal_pridiction(self.MLP8,j)\n",
    "            self.cal_pridiction(self.MLP9,j)\n",
    "            ##The output with the highest value of w:xk\n",
    "            max_v = max(self.max_val)           \n",
    "            self.labels.append(self.max_val.index(max_v))   \n",
    "        #accuracy for each epochs\n",
    "        accuracy = self.score(test_labels,self.labels)\n",
    "        if flag == True:\n",
    "            self.main_acc.append(accuracy)\n",
    "        else:\n",
    "            self.train_acc.append(accuracy)    \n",
    "        return \n",
    "\n",
    "    # defination for finding of w:xk and appending to the list\n",
    "    def cal_pridiction(self,model,j):\n",
    "        self.pred_list.append(model.predict(x_test[j]))\n",
    "        w_val0 = model.weight_value\n",
    "        self.max_val.append(w_val0)\n",
    "        return\n",
    "        \n",
    "\n",
    "    # Ploting the plot line for accuracy\n",
    "    def plot_line(self):\n",
    "        sns.lineplot(x=[x for x in range(self.itration)], y = self.main_acc, label=\"Testing Set\")\n",
    "        sns.lineplot(x=[x for x in range(self.itration)], y = self.train_acc, label=\"Training Set\")      \n",
    "        # sns.lineplot(x=[x for x in range(50)], y=main_accuracy_train, label=\"Training Set\")\n",
    "        plt.title( 'Accuracy for 50 epochs' , size = 12 )\n",
    "        plt.xlabel('Epochs')\n",
    "        plt.ylabel('Accuracy')\n",
    "        plt.legend()\n",
    "        plt.show()\n",
    "        print(\"------------------------------------------------------------\")    \n",
    "\n",
    "    # plotting the confusion matrix\n",
    "    #https://stackoverflow.com/questions/19233771/sklearn-plot-confusion-matrix-with-labels\n",
    "    #for beautiful confusion matrix\n",
    "    def confusion_matrix(self):\n",
    "        con_fu = confusion_matrix(test_labels, self.labels)\n",
    "        ax= plt.subplot()\n",
    "        sns.heatmap(con_fu, annot=True, fmt='g', ax=ax)  \n",
    "        ax.set_xlabel('Predicted labels')\n",
    "        ax.set_ylabel('True labels') \n",
    "        ax.set_title('Confusion Matrix')\n",
    "        plt.show()  \n",
    "        print(\"------------------------------------------------------------\")          "
   ]
  },
  {
   "cell_type": "code",
   "execution_count": 29,
   "metadata": {},
   "outputs": [],
   "source": [
    "#calling for 0.001 learning rate\n",
    "learn1 = run_perceptron(0.001,15)\n",
    "learn1.run()\n"
   ]
  },
  {
   "cell_type": "code",
   "execution_count": 31,
   "metadata": {},
   "outputs": [
    {
     "data": {
      "image/png": "[encoded data removed]",
      "text/plain": [
       "<Figure size 432x288 with 2 Axes>"
      ]
     },
     "metadata": {
      "needs_background": "light"
     },
     "output_type": "display_data"
    },
    {
     "name": "stdout",
     "output_type": "stream",
     "text": [
      "------------------------------------------------------------\n"
     ]
    }
   ],
   "source": [
    "learn1.confusion_matrix()"
   ]
  },
  {
   "cell_type": "code",
   "execution_count": 32,
   "metadata": {},
   "outputs": [
    {
     "data": {
      "image/png": "[encoded data removed]",
      "text/plain": [
       "<Figure size 432x288 with 1 Axes>"
      ]
     },
     "metadata": {
      "needs_background": "light"
     },
     "output_type": "display_data"
    },
    {
     "name": "stdout",
     "output_type": "stream",
     "text": [
      "------------------------------------------------------------\n"
     ]
    }
   ],
   "source": [
    "learn1.plot_line()"
   ]
  },
  {
   "cell_type": "markdown",
   "metadata": {},
   "source": [
    "### Call of 3 different learning rate"
   ]
  },
  {
   "cell_type": "markdown",
   "metadata": {},
   "source": [
    "## change the epochs to 50 first for above code\n",
    "## uncommet the code and go banana!!"
   ]
  },
  {
   "cell_type": "code",
   "execution_count": null,
   "metadata": {},
   "outputs": [],
   "source": [
    "# learn2 = run_perceptron(0.01,50)\n",
    "# learn2.run()\n",
    "# learn2.confusion_matrix()\n",
    "# learn2.plot_line()"
   ]
  },
  {
   "cell_type": "code",
   "execution_count": null,
   "metadata": {},
   "outputs": [],
   "source": [
    "# learn3 = run_perceptron(0.01,50)\n",
    "# learn3.run()\n",
    "# learn3.confusion_matrix()\n",
    "# learn3.plot_line()"
   ]
  },
  {
   "cell_type": "code",
   "execution_count": null,
   "metadata": {},
   "outputs": [],
   "source": [
    "def main():\n",
    "    print(\"For learning rate 0.01\")\n",
    "    learn1 = run_perceptron(0.01,50)\n",
    "    learn1.run()\n",
    "    learn1.confusion_matrix()\n",
    "    learn1.plot_line()\n",
    "\n",
    "    print(\"For learning rate 0.1\")\n",
    "    learn2 = run_perceptron(0.1,50)\n",
    "    learn2.run()\n",
    "    learn2.confusion_matrix()\n",
    "    learn2.plot_line()\n",
    "\n",
    "    print(\"For learning rate 1.0\")\n",
    "    learn3 = run_perceptron(1.0,50)\n",
    "    learn3.run()\n",
    "    learn3.confusion_matrix()\n",
    "    learn3.plot_line()"
   ]
  },
  {
   "cell_type": "code",
   "execution_count": null,
   "metadata": {},
   "outputs": [],
   "source": [
    "main()"
   ]
  }
 ],
 "metadata": {
  "interpreter": {
   "hash": "4fe60292a02a4ddac9e119591d0baa402df681cef0b7b882b334479aed09bd2b"
  },
  "kernelspec": {
   "display_name": "Python 3.10.2 64-bit",
   "language": "python",
   "name": "python3"
  },
  "language_info": {
   "codemirror_mode": {
    "name": "ipython",
    "version": 3
   },
   "file_extension": ".py",
   "mimetype": "text/x-python",
   "name": "python",
   "nbconvert_exporter": "python",
   "pygments_lexer": "ipython3",
   "version": "3.10.2"
  },
  "orig_nbformat": 4
 },
 "nbformat": 4,
 "nbformat_minor": 2
}
